{
 "cells": [
  {
   "cell_type": "code",
   "execution_count": 96,
   "metadata": {},
   "outputs": [],
   "source": [
    "import heapq\n"
   ]
  },
  {
   "cell_type": "code",
   "execution_count": 97,
   "metadata": {},
   "outputs": [],
   "source": [
    "class Grafo:\n",
    "    def __init__(self):\n",
    "        self.vertices = {}\n",
    "    \n",
    "    def adicionar_vertice(self, vertice):\n",
    "        if vertice not in self.vertices:\n",
    "            self.vertices[vertice] = {}\n",
    "    \n",
    "    def adicionar_aresta(self, origem, destino, peso):\n",
    "        if origem in self.vertices and destino in self.vertices:\n",
    "            self.vertices[origem][destino] = peso\n",
    "        else:\n",
    "            print(\"Um ou ambos os vértices não existem.\")\n",
    "    \n",
    "    def mostrar_grafo(self):\n",
    "        for vertice in self.vertices:\n",
    "            for destino in self.vertices[vertice]:\n",
    "                print(f\"{vertice} -> {destino} com peso {self.vertices[vertice][destino]}\")"
   ]
  },
  {
   "cell_type": "code",
   "execution_count": 98,
   "metadata": {},
   "outputs": [],
   "source": [
    "def dijkstra(Grafo, inicio):\n",
    "        distancias = {vertice: float('infinity') for vertice in Grafo.vertices}\n",
    "        distancias[inicio] = 0\n",
    "        prioridade = [(0, inicio)]\n",
    "        heapq.heapify(prioridade)\n",
    "        visitados = set()\n",
    "\n",
    "        while prioridade:\n",
    "            distancia_atual, vertice_atual = heapq.heappop(prioridade)\n",
    "            if vertice_atual in visitados:\n",
    "                continue\n",
    "            visitados.add(vertice_atual)\n",
    "\n",
    "            for vizinho, peso in Grafo.vertices[vertice_atual].items():\n",
    "                distancia = distancia_atual + peso\n",
    "                if distancia < distancias[vizinho]:\n",
    "                    distancias[vizinho] = distancia\n",
    "                    heapq.heappush(prioridade, (distancia, vizinho))\n",
    "        \n",
    "        return distancias"
   ]
  },
  {
   "cell_type": "markdown",
   "metadata": {},
   "source": [
    "# Exemplo de grafo dirigido"
   ]
  },
  {
   "cell_type": "markdown",
   "metadata": {},
   "source": [
    "![Imagem de um grafo dirigido](IMG/Grafo_1.png)"
   ]
  },
  {
   "cell_type": "code",
   "execution_count": 99,
   "metadata": {},
   "outputs": [
    {
     "name": "stdout",
     "output_type": "stream",
     "text": [
      "A -> B com peso 10\n",
      "A -> C com peso 3\n",
      "B -> D com peso 2\n",
      "B -> C com peso 1\n",
      "C -> B com peso 4\n",
      "C -> E com peso 2\n",
      "C -> D com peso 8\n",
      "D -> E com peso 7\n",
      "E -> D com peso 9\n",
      "{'A': 0, 'B': 7, 'C': 3, 'D': 9, 'E': 5}\n"
     ]
    }
   ],
   "source": [
    "grafo = Grafo()\n",
    "grafo.adicionar_vertice(\"A\")\n",
    "grafo.adicionar_vertice(\"B\")\n",
    "grafo.adicionar_vertice(\"C\")\n",
    "grafo.adicionar_vertice(\"D\")\n",
    "grafo.adicionar_vertice(\"E\")\n",
    "grafo.adicionar_aresta(\"A\", \"B\", 10)\n",
    "grafo.adicionar_aresta(\"A\", \"C\", 3)\n",
    "grafo.adicionar_aresta(\"B\", \"D\", 2)\n",
    "grafo.adicionar_aresta(\"B\", \"C\", 1)\n",
    "grafo.adicionar_aresta(\"C\", \"B\", 4)\n",
    "grafo.adicionar_aresta(\"C\", \"E\", 2)\n",
    "grafo.adicionar_aresta(\"C\", \"D\", 8)\n",
    "grafo.adicionar_aresta(\"E\", \"D\", 9)\n",
    "grafo.adicionar_aresta(\"D\", \"E\", 7)\n",
    "\n",
    "distancias = dijkstra(grafo,\"A\")\n",
    "grafo.mostrar_grafo()\n",
    "print(distancias)"
   ]
  },
  {
   "cell_type": "code",
   "execution_count": 100,
   "metadata": {},
   "outputs": [],
   "source": [
    "def busca_em_largura(grafo, inicio, fim, caminho):\n",
    "    \n",
    "    visitados = {no: False for no in grafo.vertices}\n",
    "    fila = [inicio]\n",
    "    visitados[inicio] = True\n",
    "\n",
    "    while fila:\n",
    "        atual = fila.pop(0)\n",
    "        for adjacente in grafo.vertices[atual]:\n",
    "      \n",
    "            if not visitados[adjacente] and grafo.vertices[atual][adjacente] > 0:\n",
    "                fila.append(adjacente)\n",
    "                visitados[adjacente] = True\n",
    "                caminho[adjacente] = atual\n",
    "               \n",
    "                if adjacente == fim:\n",
    "                    return True\n",
    "    \n",
    "   \n",
    "    return False\n",
    "\n",
    "def algoritmo_ford_fulkerson(grafo, inicio, fim):\n",
    "    caminho = {}\n",
    "    fluxo_total = 0\n",
    "\n",
    "   \n",
    "    while busca_em_largura(grafo, inicio, fim, caminho):\n",
    "        fluxo_caminho = float(\"Inf\")\n",
    "        atual = fim\n",
    "\n",
    "      \n",
    "        while atual != inicio:\n",
    "            fluxo_caminho = min(fluxo_caminho, grafo.vertices[caminho[atual]][atual])\n",
    "            atual = caminho[atual]\n",
    "\n",
    "        \n",
    "        atual = fim\n",
    "        while atual != inicio:\n",
    "            anterior = caminho[atual]\n",
    "            grafo.vertices[anterior][atual] -= fluxo_caminho\n",
    "            if anterior not in grafo.vertices[atual]:\n",
    "                grafo.vertices[atual][anterior] = 0\n",
    "            grafo.vertices[atual][anterior] += fluxo_caminho\n",
    "            atual = caminho[atual]\n",
    "\n",
    "        fluxo_total += fluxo_caminho\n",
    "\n",
    "    print(f\"\\nO fluxo máximo de {inicio} para {fim} é: {fluxo_total}\")\n",
    "    return fluxo_total"
   ]
  },
  {
   "cell_type": "code",
   "execution_count": 101,
   "metadata": {},
   "outputs": [
    {
     "name": "stdout",
     "output_type": "stream",
     "text": [
      "Grafo inicial:\n",
      "a -> b com peso 15\n",
      "a -> t com peso 10\n",
      "s -> a com peso 10\n",
      "s -> b com peso 5\n",
      "b -> t com peso 10\n",
      "['s']\n",
      "s\n",
      "['a', 'b']\n",
      "a\n",
      "['s']\n",
      "s\n",
      "['b']\n",
      "b\n",
      "['s']\n",
      "s\n",
      "\n",
      "O fluxo máximo de s para t é: 15\n"
     ]
    }
   ],
   "source": [
    "Gf = Grafo()\n",
    "\n",
    "Gf.adicionar_vertice('a')\n",
    "Gf.adicionar_vertice('s')\n",
    "Gf.adicionar_vertice('b')\n",
    "Gf.adicionar_vertice('t')\n",
    "\n",
    "\n",
    "Gf.adicionar_aresta('s', 'a', 10)\n",
    "Gf.adicionar_aresta('s', 'b', 5)\n",
    "Gf.adicionar_aresta('a', 'b', 15)\n",
    "Gf.adicionar_aresta('a', 't', 10)\n",
    "Gf.adicionar_aresta('b', 't', 10)\n",
    "\n",
    "inicio = 's'\n",
    "fim = 't'\n",
    "\n",
    "print(\"Grafo inicial:\")\n",
    "Gf.mostrar_grafo()\n",
    "\n",
    "\n",
    "max_flow = ford_fulkerson(Gf, inicio,fim)"
   ]
  }
 ],
 "metadata": {
  "kernelspec": {
   "display_name": "Python 3",
   "language": "python",
   "name": "python3"
  },
  "language_info": {
   "codemirror_mode": {
    "name": "ipython",
    "version": 3
   },
   "file_extension": ".py",
   "mimetype": "text/x-python",
   "name": "python",
   "nbconvert_exporter": "python",
   "pygments_lexer": "ipython3",
   "version": "3.11.9"
  }
 },
 "nbformat": 4,
 "nbformat_minor": 2
}
